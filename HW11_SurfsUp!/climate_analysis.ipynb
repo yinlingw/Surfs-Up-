{
 "cells": [
  {
   "cell_type": "code",
   "execution_count": 2,
   "metadata": {},
   "outputs": [
    {
     "name": "stderr",
     "output_type": "stream",
     "text": [
      "/Users/melissa/anaconda3/lib/python3.6/site-packages/ipykernel_launcher.py:5: UserWarning: \n",
      "This call to matplotlib.use() has no effect because the backend has already\n",
      "been chosen; matplotlib.use() must be called *before* pylab, matplotlib.pyplot,\n",
      "or matplotlib.backends is imported for the first time.\n",
      "\n",
      "The backend was *originally* set to 'module://ipykernel.pylab.backend_inline' by the following code:\n",
      "  File \"/Users/melissa/anaconda3/lib/python3.6/runpy.py\", line 193, in _run_module_as_main\n",
      "    \"__main__\", mod_spec)\n",
      "  File \"/Users/melissa/anaconda3/lib/python3.6/runpy.py\", line 85, in _run_code\n",
      "    exec(code, run_globals)\n",
      "  File \"/Users/melissa/anaconda3/lib/python3.6/site-packages/ipykernel_launcher.py\", line 16, in <module>\n",
      "    app.launch_new_instance()\n",
      "  File \"/Users/melissa/anaconda3/lib/python3.6/site-packages/traitlets/config/application.py\", line 658, in launch_instance\n",
      "    app.start()\n",
      "  File \"/Users/melissa/anaconda3/lib/python3.6/site-packages/ipykernel/kernelapp.py\", line 477, in start\n",
      "    ioloop.IOLoop.instance().start()\n",
      "  File \"/Users/melissa/anaconda3/lib/python3.6/site-packages/zmq/eventloop/ioloop.py\", line 177, in start\n",
      "    super(ZMQIOLoop, self).start()\n",
      "  File \"/Users/melissa/anaconda3/lib/python3.6/site-packages/tornado/ioloop.py\", line 888, in start\n",
      "    handler_func(fd_obj, events)\n",
      "  File \"/Users/melissa/anaconda3/lib/python3.6/site-packages/tornado/stack_context.py\", line 277, in null_wrapper\n",
      "    return fn(*args, **kwargs)\n",
      "  File \"/Users/melissa/anaconda3/lib/python3.6/site-packages/zmq/eventloop/zmqstream.py\", line 440, in _handle_events\n",
      "    self._handle_recv()\n",
      "  File \"/Users/melissa/anaconda3/lib/python3.6/site-packages/zmq/eventloop/zmqstream.py\", line 472, in _handle_recv\n",
      "    self._run_callback(callback, msg)\n",
      "  File \"/Users/melissa/anaconda3/lib/python3.6/site-packages/zmq/eventloop/zmqstream.py\", line 414, in _run_callback\n",
      "    callback(*args, **kwargs)\n",
      "  File \"/Users/melissa/anaconda3/lib/python3.6/site-packages/tornado/stack_context.py\", line 277, in null_wrapper\n",
      "    return fn(*args, **kwargs)\n",
      "  File \"/Users/melissa/anaconda3/lib/python3.6/site-packages/ipykernel/kernelbase.py\", line 283, in dispatcher\n",
      "    return self.dispatch_shell(stream, msg)\n",
      "  File \"/Users/melissa/anaconda3/lib/python3.6/site-packages/ipykernel/kernelbase.py\", line 235, in dispatch_shell\n",
      "    handler(stream, idents, msg)\n",
      "  File \"/Users/melissa/anaconda3/lib/python3.6/site-packages/ipykernel/kernelbase.py\", line 399, in execute_request\n",
      "    user_expressions, allow_stdin)\n",
      "  File \"/Users/melissa/anaconda3/lib/python3.6/site-packages/ipykernel/ipkernel.py\", line 196, in do_execute\n",
      "    res = shell.run_cell(code, store_history=store_history, silent=silent)\n",
      "  File \"/Users/melissa/anaconda3/lib/python3.6/site-packages/ipykernel/zmqshell.py\", line 533, in run_cell\n",
      "    return super(ZMQInteractiveShell, self).run_cell(*args, **kwargs)\n",
      "  File \"/Users/melissa/anaconda3/lib/python3.6/site-packages/IPython/core/interactiveshell.py\", line 2698, in run_cell\n",
      "    interactivity=interactivity, compiler=compiler, result=result)\n",
      "  File \"/Users/melissa/anaconda3/lib/python3.6/site-packages/IPython/core/interactiveshell.py\", line 2802, in run_ast_nodes\n",
      "    if self.run_code(code, result):\n",
      "  File \"/Users/melissa/anaconda3/lib/python3.6/site-packages/IPython/core/interactiveshell.py\", line 2862, in run_code\n",
      "    exec(code_obj, self.user_global_ns, self.user_ns)\n",
      "  File \"<ipython-input-2-6c7fb7e1b1d8>\", line 3, in <module>\n",
      "    import matplotlib.pyplot as plt\n",
      "  File \"/Users/melissa/anaconda3/lib/python3.6/site-packages/matplotlib/pyplot.py\", line 69, in <module>\n",
      "    from matplotlib.backends import pylab_setup\n",
      "  File \"/Users/melissa/anaconda3/lib/python3.6/site-packages/matplotlib/backends/__init__.py\", line 14, in <module>\n",
      "    line for line in traceback.format_stack()\n",
      "\n",
      "\n",
      "  \"\"\"\n"
     ]
    }
   ],
   "source": [
    "# Dependencies\n",
    "import pandas as pd\n",
    "import matplotlib.pyplot as plt\n",
    "import matplotlib\n",
    "matplotlib.use('nbagg')\n",
    "from matplotlib import style\n",
    "style.use('fivethirtyeight')\n",
    "#import datetime as dt"
   ]
  },
  {
   "cell_type": "code",
   "execution_count": 21,
   "metadata": {
    "collapsed": true
   },
   "outputs": [],
   "source": [
    "# Python SQL toolkit and Object Relational Mapper\n",
    "import sqlalchemy\n",
    "from sqlalchemy.ext.automap import automap_base\n",
    "from sqlalchemy.orm import Session\n",
    "from sqlalchemy import Column, Integer, String, Float, and_, Date, desc, func\n",
    "from sqlalchemy.sql import label"
   ]
  },
  {
   "cell_type": "code",
   "execution_count": 4,
   "metadata": {
    "collapsed": true
   },
   "outputs": [],
   "source": [
    "# Database setup\n",
    "engine = create_engine(\"sqlite:///Resources/hawaii.sqlite\", echo=False)"
   ]
  },
  {
   "cell_type": "code",
   "execution_count": 5,
   "metadata": {
    "collapsed": true
   },
   "outputs": [],
   "source": [
    "# reflect an existing database into a new model\n",
    "Base = automap_base()\n",
    "# reflect the tables\n",
    "Base.prepare(engine, reflect=True)"
   ]
  },
  {
   "cell_type": "code",
   "execution_count": 6,
   "metadata": {},
   "outputs": [
    {
     "data": {
      "text/plain": [
       "['measurements', 'stations']"
      ]
     },
     "execution_count": 6,
     "metadata": {},
     "output_type": "execute_result"
    }
   ],
   "source": [
    "Base.classes.keys()"
   ]
  },
  {
   "cell_type": "code",
   "execution_count": 8,
   "metadata": {
    "collapsed": true
   },
   "outputs": [],
   "source": [
    "# Save reference to the tables\n",
    "Measurement = Base.classes.measurements\n",
    "Stations = Base.classes.stations"
   ]
  },
  {
   "cell_type": "code",
   "execution_count": 9,
   "metadata": {
    "collapsed": true
   },
   "outputs": [],
   "source": [
    "# Create our session (link) from Python to the DB\n",
    "session = Session(bind = engine)"
   ]
  },
  {
   "cell_type": "code",
   "execution_count": 10,
   "metadata": {},
   "outputs": [
    {
     "data": {
      "text/plain": [
       "{'_sa_instance_state': <sqlalchemy.orm.state.InstanceState at 0x108f9a7f0>,\n",
       " 'date': '2010-01-01',\n",
       " 'id': 1,\n",
       " 'prcp': '0.08',\n",
       " 'station': 'USC00519397',\n",
       " 'tobs': '65'}"
      ]
     },
     "execution_count": 10,
     "metadata": {},
     "output_type": "execute_result"
    }
   ],
   "source": [
    "# Use a session query to find the first row in the database\n",
    "data = session.query(Measurement).first()\n",
    "data.__dict__"
   ]
  },
  {
   "cell_type": "code",
   "execution_count": 11,
   "metadata": {
    "collapsed": true
   },
   "outputs": [],
   "source": [
    "# Precipitation Analysis\n",
    "results_date_prcp = session.query(Measurement.date, Measurement.prcp).\\\n",
    "    filter(Measurement.date > '2017-04-01', Measurement.date < '2018-04-20').order_by(Measurement.date).group_by(Measurement.date).all()    "
   ]
  },
  {
   "cell_type": "code",
   "execution_count": 12,
   "metadata": {},
   "outputs": [
    {
     "name": "stdout",
     "output_type": "stream",
     "text": [
      "[('2017-04-02', '0.0'), ('2017-04-03', '0.23'), ('2017-04-04', '0.02'), ('2017-04-05', '0.45'), ('2017-04-06', '0.0'), ('2017-04-07', '0.0'), ('2017-04-08', '0.0'), ('2017-04-09', '0.0'), ('2017-04-10', '0.0'), ('2017-04-11', '0.25'), ('2017-04-12', '0.65'), ('2017-04-13', '0.23'), ('2017-04-14', '2.82'), ('2017-04-15', '0.9'), ('2017-04-16', '0.11'), ('2017-04-17', '1.3'), ('2017-04-18', '0.98'), ('2017-04-19', '0.14'), ('2017-04-20', '0.0'), ('2017-04-21', '1.84'), ('2017-04-22', '1.35'), ('2017-04-23', '0.35'), ('2017-04-24', '0.05'), ('2017-04-25', '0.0'), ('2017-04-26', '0.22'), ('2017-04-27', '0.11'), ('2017-04-28', '0.79'), ('2017-04-29', '0.0'), ('2017-04-30', '0.8'), ('2017-05-01', '0.25'), ('2017-05-02', '0.0'), ('2017-05-03', '0.01'), ('2017-05-04', '0.0'), ('2017-05-05', '0.1'), ('2017-05-06', '0.0'), ('2017-05-07', '0.03'), ('2017-05-08', '1.11'), ('2017-05-09', '0.23'), ('2017-05-10', '0.55'), ('2017-05-11', '0.44'), ('2017-05-12', '0.1'), ('2017-05-13', '0.1'), ('2017-05-14', '1.0'), ('2017-05-15', '0.6'), ('2017-05-16', '0.3'), ('2017-05-17', '0.06'), ('2017-05-18', '0.0'), ('2017-05-19', '0.01'), ('2017-05-20', '0.02'), ('2017-05-21', '0.0'), ('2017-05-22', '0.3'), ('2017-05-23', '0.44'), ('2017-05-24', '2.17'), ('2017-05-25', '0.88'), ('2017-05-26', '0.0'), ('2017-05-27', '0.5'), ('2017-05-28', '0.0'), ('2017-05-29', '0.4'), ('2017-05-30', '1.12'), ('2017-05-31', '0.25'), ('2017-06-01', '0.01'), ('2017-06-02', '0.09'), ('2017-06-03', '0.08'), ('2017-06-04', '0.82'), ('2017-06-05', '0.01'), ('2017-06-06', '0.0'), ('2017-06-07', '0.01'), ('2017-06-08', '0.0'), ('2017-06-09', '0.02'), ('2017-06-10', '0.62'), ('2017-06-11', '0.7'), ('2017-06-12', '0.81'), ('2017-06-13', '0.65'), ('2017-06-14', '0.81'), ('2017-06-15', '1.69'), ('2017-06-16', '0.1'), ('2017-06-17', '0.1'), ('2017-06-18', '0.7'), ('2017-06-19', '0.4'), ('2017-06-20', '0.31'), ('2017-06-21', '0.3'), ('2017-06-22', '0.28'), ('2017-06-23', '0.5'), ('2017-06-24', '0.22'), ('2017-06-25', '0.5'), ('2017-06-26', '0.02'), ('2017-06-27', '0.1'), ('2017-06-28', '0.02'), ('2017-06-29', '0.04'), ('2017-06-30', '0.2'), ('2017-07-01', '0.1'), ('2017-07-02', '0.5'), ('2017-07-03', '0.4'), ('2017-07-04', '0.0'), ('2017-07-05', '0.0'), ('2017-07-06', '0.02'), ('2017-07-07', '0.3'), ('2017-07-08', '0.02'), ('2017-07-09', '0.0'), ('2017-07-10', '0.02'), ('2017-07-11', '0.0'), ('2017-07-12', '0.05'), ('2017-07-13', '0.68'), ('2017-07-14', '0.68'), ('2017-07-15', '0.1'), ('2017-07-16', '0.5'), ('2017-07-17', '0.39'), ('2017-07-18', '2.4'), ('2017-07-19', '0.27'), ('2017-07-20', '0.7'), ('2017-07-21', '0.1'), ('2017-07-22', '4.0'), ('2017-07-23', '0.8'), ('2017-07-24', '0.84'), ('2017-07-25', '0.3'), ('2017-07-26', '0.3'), ('2017-07-27', '0.0'), ('2017-07-28', '0.4'), ('2017-07-29', '0.3'), ('2017-07-30', '0.3'), ('2017-07-31', '0.0'), ('2017-08-01', '0.0'), ('2017-08-02', '0.25'), ('2017-08-03', '0.06'), ('2017-08-04', '0.0'), ('2017-08-05', '0.06'), ('2017-08-06', '0.0'), ('2017-08-07', '0.05'), ('2017-08-08', '0.34'), ('2017-08-09', '0.15'), ('2017-08-10', '0.07'), ('2017-08-11', '0.0'), ('2017-08-12', '0.14'), ('2017-08-13', '0.0'), ('2017-08-14', '0.22'), ('2017-08-15', '0.42'), ('2017-08-16', '0.42'), ('2017-08-17', '0.13'), ('2017-08-18', '0.06'), ('2017-08-19', '0.09'), ('2017-08-20', '0.01'), ('2017-08-21', '0.56'), ('2017-08-22', '0.5'), ('2017-08-23', '0.45')]\n"
     ]
    }
   ],
   "source": [
    "print(results_date_prcp)"
   ]
  },
  {
   "cell_type": "code",
   "execution_count": 13,
   "metadata": {
    "collapsed": true
   },
   "outputs": [],
   "source": [
    "surfsup_date = [str(result[0]) for result in results_date_prcp[:50]]\n",
    "surfsup_prcp = [float(result[1]) for result in results_date_prcp[:50]]"
   ]
  },
  {
   "cell_type": "code",
   "execution_count": 14,
   "metadata": {
    "collapsed": true
   },
   "outputs": [],
   "source": [
    "import matplotlib.pyplot as plt; plt.rcdefaults()\n",
    "import numpy as np\n",
    "from datetime import datetime"
   ]
  },
  {
   "cell_type": "code",
   "execution_count": 15,
   "metadata": {},
   "outputs": [
    {
     "data": {
      "image/png": "[encoded data removed]",
      "text/plain": [
       "<matplotlib.figure.Figure at 0x108fc5b00>"
      ]
     },
     "metadata": {},
     "output_type": "display_data"
    }
   ],
   "source": [
    "# Plot the Precipitation Bar Chart \n",
    "datetime_surfsup_date = [datetime.strptime(date, '%Y-%m-%d') for date in surfsup_date]\n",
    "\n",
    "fig, ax=plt.subplots()\n",
    "x_axis = datetime_surfsup_date\n",
    "y_axis = surfsup_prcp\n",
    "ax.set_xlabel(\"12 Month\")\n",
    "ax.set_ylabel(\"Precipitation\")\n",
    "ax.set_yticks(y_axis, range(0,3))\n",
    "#ax.set_ylim(ymin=0, ymax=3)\n",
    "ax.set_title(\"Precipitation in 2017-2018\")\n",
    "\n",
    "plt.bar(x_axis, y_axis, align='center',alpha=0.9)\n",
    "plt.xticks(rotation = '45')\n",
    "plt.gcf().autofmt_xdate()\n",
    "fig.tight_layout()\n",
    "plt.show()"
   ]
  },
  {
   "cell_type": "code",
   "execution_count": 44,
   "metadata": {},
   "outputs": [
    {
     "data": {
      "text/html": [
       "<div>\n",
       "<style>\n",
       "    .dataframe thead tr:only-child th {\n",
       "        text-align: right;\n",
       "    }\n",
       "\n",
       "    .dataframe thead th {\n",
       "        text-align: left;\n",
       "    }\n",
       "\n",
       "    .dataframe tbody tr th {\n",
       "        vertical-align: top;\n",
       "    }\n",
       "</style>\n",
       "<table border=\"1\" class=\"dataframe\">\n",
       "  <thead>\n",
       "    <tr style=\"text-align: right;\">\n",
       "      <th></th>\n",
       "      <th>id</th>\n",
       "      <th>station</th>\n",
       "      <th>date</th>\n",
       "      <th>prcp</th>\n",
       "      <th>tobs</th>\n",
       "    </tr>\n",
       "  </thead>\n",
       "  <tbody>\n",
       "    <tr>\n",
       "      <th>0</th>\n",
       "      <td>2307</td>\n",
       "      <td>USC00519397</td>\n",
       "      <td>2016-08-03</td>\n",
       "      <td>0.0</td>\n",
       "      <td>80</td>\n",
       "    </tr>\n",
       "    <tr>\n",
       "      <th>1</th>\n",
       "      <td>2310</td>\n",
       "      <td>USC00519397</td>\n",
       "      <td>2016-08-06</td>\n",
       "      <td>0.0</td>\n",
       "      <td>80</td>\n",
       "    </tr>\n",
       "    <tr>\n",
       "      <th>2</th>\n",
       "      <td>2313</td>\n",
       "      <td>USC00519397</td>\n",
       "      <td>2016-08-09</td>\n",
       "      <td>0.0</td>\n",
       "      <td>80</td>\n",
       "    </tr>\n",
       "    <tr>\n",
       "      <th>3</th>\n",
       "      <td>2314</td>\n",
       "      <td>USC00519397</td>\n",
       "      <td>2016-08-10</td>\n",
       "      <td>0.0</td>\n",
       "      <td>80</td>\n",
       "    </tr>\n",
       "    <tr>\n",
       "      <th>4</th>\n",
       "      <td>2315</td>\n",
       "      <td>USC00519397</td>\n",
       "      <td>2016-08-11</td>\n",
       "      <td>0.0</td>\n",
       "      <td>80</td>\n",
       "    </tr>\n",
       "    <tr>\n",
       "      <th>5</th>\n",
       "      <td>2316</td>\n",
       "      <td>USC00519397</td>\n",
       "      <td>2016-08-12</td>\n",
       "      <td>0.0</td>\n",
       "      <td>79</td>\n",
       "    </tr>\n",
       "    <tr>\n",
       "      <th>6</th>\n",
       "      <td>2317</td>\n",
       "      <td>USC00519397</td>\n",
       "      <td>2016-08-13</td>\n",
       "      <td>0.0</td>\n",
       "      <td>79</td>\n",
       "    </tr>\n",
       "    <tr>\n",
       "      <th>7</th>\n",
       "      <td>2318</td>\n",
       "      <td>USC00519397</td>\n",
       "      <td>2016-08-14</td>\n",
       "      <td>0.0</td>\n",
       "      <td>79</td>\n",
       "    </tr>\n",
       "    <tr>\n",
       "      <th>8</th>\n",
       "      <td>2319</td>\n",
       "      <td>USC00519397</td>\n",
       "      <td>2016-08-15</td>\n",
       "      <td>0.0</td>\n",
       "      <td>79</td>\n",
       "    </tr>\n",
       "    <tr>\n",
       "      <th>9</th>\n",
       "      <td>2320</td>\n",
       "      <td>USC00519397</td>\n",
       "      <td>2016-08-16</td>\n",
       "      <td>0.0</td>\n",
       "      <td>80</td>\n",
       "    </tr>\n",
       "  </tbody>\n",
       "</table>\n",
       "</div>"
      ],
      "text/plain": [
       "     id      station        date prcp tobs\n",
       "0  2307  USC00519397  2016-08-03  0.0   80\n",
       "1  2310  USC00519397  2016-08-06  0.0   80\n",
       "2  2313  USC00519397  2016-08-09  0.0   80\n",
       "3  2314  USC00519397  2016-08-10  0.0   80\n",
       "4  2315  USC00519397  2016-08-11  0.0   80\n",
       "5  2316  USC00519397  2016-08-12  0.0   79\n",
       "6  2317  USC00519397  2016-08-13  0.0   79\n",
       "7  2318  USC00519397  2016-08-14  0.0   79\n",
       "8  2319  USC00519397  2016-08-15  0.0   79\n",
       "9  2320  USC00519397  2016-08-16  0.0   80"
      ]
     },
     "execution_count": 44,
     "metadata": {},
     "output_type": "execute_result"
    }
   ],
   "source": [
    "data_prcp_stmt = session.query(Measurement).\\\n",
    "    filter(Measurement.date > '2016-08-01', Measurement.date < '2017-08-23').order_by(Measurement.prcp).statement\n",
    "df_date_prcp2 = pd.read_sql_query(data_prcp_stmt, session.bind)\n",
    "df_date_prcp2.head(10)"
   ]
  },
  {
   "cell_type": "code",
   "execution_count": 45,
   "metadata": {},
   "outputs": [
    {
     "data": {
      "text/plain": [
       "[(9)]"
      ]
     },
     "execution_count": 45,
     "metadata": {},
     "output_type": "execute_result"
    }
   ],
   "source": [
    "# Station Analysis\n",
    "# Number of stations\n",
    "session.query(func.count(Stations.station)).all()"
   ]
  },
  {
   "cell_type": "code",
   "execution_count": 46,
   "metadata": {},
   "outputs": [
    {
     "name": "stdout",
     "output_type": "stream",
     "text": [
      "[('USC00511918', 1932), ('USC00513117', 2696), ('USC00514830', 1937), ('USC00516128', 2484), ('USC00517948', 683), ('USC00518838', 342), ('USC00519281', 2772), ('USC00519397', 2685), ('USC00519523', 2572)]\n"
     ]
    }
   ],
   "source": [
    "#Number of Each Station Instance\n",
    "results_instance_station_total = session.query(Measurement.station, func.count(Measurement.station)).\\\n",
    "    group_by(Measurement.station).all()\n",
    "    \n",
    "print(results_instance_station_total)"
   ]
  },
  {
   "cell_type": "code",
   "execution_count": 47,
   "metadata": {},
   "outputs": [
    {
     "data": {
      "text/html": [
       "<div>\n",
       "<style>\n",
       "    .dataframe thead tr:only-child th {\n",
       "        text-align: right;\n",
       "    }\n",
       "\n",
       "    .dataframe thead th {\n",
       "        text-align: left;\n",
       "    }\n",
       "\n",
       "    .dataframe tbody tr th {\n",
       "        vertical-align: top;\n",
       "    }\n",
       "</style>\n",
       "<table border=\"1\" class=\"dataframe\">\n",
       "  <thead>\n",
       "    <tr style=\"text-align: right;\">\n",
       "      <th></th>\n",
       "      <th>station</th>\n",
       "      <th>total</th>\n",
       "    </tr>\n",
       "  </thead>\n",
       "  <tbody>\n",
       "    <tr>\n",
       "      <th>6</th>\n",
       "      <td>USC00519281</td>\n",
       "      <td>2772</td>\n",
       "    </tr>\n",
       "    <tr>\n",
       "      <th>1</th>\n",
       "      <td>USC00513117</td>\n",
       "      <td>2696</td>\n",
       "    </tr>\n",
       "    <tr>\n",
       "      <th>7</th>\n",
       "      <td>USC00519397</td>\n",
       "      <td>2685</td>\n",
       "    </tr>\n",
       "    <tr>\n",
       "      <th>8</th>\n",
       "      <td>USC00519523</td>\n",
       "      <td>2572</td>\n",
       "    </tr>\n",
       "    <tr>\n",
       "      <th>3</th>\n",
       "      <td>USC00516128</td>\n",
       "      <td>2484</td>\n",
       "    </tr>\n",
       "    <tr>\n",
       "      <th>2</th>\n",
       "      <td>USC00514830</td>\n",
       "      <td>1937</td>\n",
       "    </tr>\n",
       "    <tr>\n",
       "      <th>0</th>\n",
       "      <td>USC00511918</td>\n",
       "      <td>1932</td>\n",
       "    </tr>\n",
       "    <tr>\n",
       "      <th>4</th>\n",
       "      <td>USC00517948</td>\n",
       "      <td>683</td>\n",
       "    </tr>\n",
       "    <tr>\n",
       "      <th>5</th>\n",
       "      <td>USC00518838</td>\n",
       "      <td>342</td>\n",
       "    </tr>\n",
       "  </tbody>\n",
       "</table>\n",
       "</div>"
      ],
      "text/plain": [
       "       station  total\n",
       "6  USC00519281   2772\n",
       "1  USC00513117   2696\n",
       "7  USC00519397   2685\n",
       "8  USC00519523   2572\n",
       "3  USC00516128   2484\n",
       "2  USC00514830   1937\n",
       "0  USC00511918   1932\n",
       "4  USC00517948    683\n",
       "5  USC00518838    342"
      ]
     },
     "execution_count": 47,
     "metadata": {},
     "output_type": "execute_result"
    }
   ],
   "source": [
    "# Most active stations dataframe\n",
    "df_count_stations = pd.DataFrame(data=results_instance_station_total, columns=[\"station\",\"total\"])\n",
    "df_count_stations.sort_values(\"total\", ascending=False)"
   ]
  },
  {
   "cell_type": "code",
   "execution_count": 43,
   "metadata": {},
   "outputs": [
    {
     "data": {
      "text/plain": [
       "[('USC00519281', 2772)]"
      ]
     },
     "execution_count": 43,
     "metadata": {},
     "output_type": "execute_result"
    }
   ],
   "source": [
    "# Station with the highest no. of observations\n",
    "active_stations[:1]"
   ]
  },
  {
   "cell_type": "code",
   "execution_count": 31,
   "metadata": {},
   "outputs": [
    {
     "data": {
      "text/plain": [
       "[('USC00511918', '64', 1903),\n",
       " ('USC00513117', '77', 2695),\n",
       " ('USC00514830', '82', 1935),\n",
       " ('USC00516128', '76', 2476),\n",
       " ('USC00517948', '80', 682),\n",
       " ('USC00518838', '74', 340),\n",
       " ('USC00519281', '79', 2750),\n",
       " ('USC00519397', '81', 2677),\n",
       " ('USC00519523', '82', 2564)]"
      ]
     },
     "execution_count": 31,
     "metadata": {},
     "output_type": "execute_result"
    }
   ],
   "source": [
    "# USC00519281 has greatest number of high tobs\n",
    "results_high_tobs_station = session.query(Measurement.station, Measurement.tobs, func.count(Measurement.station)).\\\n",
    "    filter(Measurement.tobs >=60).group_by(Measurement.station).all()\n",
    "    \n",
    "results_high_tobs_station"
   ]
  },
  {
   "cell_type": "code",
   "execution_count": 33,
   "metadata": {},
   "outputs": [
    {
     "data": {
      "text/plain": [
       "[('USC00519281', '2017-04-01', '74'),\n",
       " ('USC00519281', '2017-04-02', '75'),\n",
       " ('USC00519281', '2017-04-03', '70'),\n",
       " ('USC00519281', '2017-04-04', '67'),\n",
       " ('USC00519281', '2017-04-05', '71'),\n",
       " ('USC00519281', '2017-04-06', '67'),\n",
       " ('USC00519281', '2017-04-07', '74'),\n",
       " ('USC00519281', '2017-04-08', '77'),\n",
       " ('USC00519281', '2017-04-09', '78'),\n",
       " ('USC00519281', '2017-04-10', '67'),\n",
       " ('USC00519281', '2017-04-11', '70'),\n",
       " ('USC00519281', '2017-04-12', '69'),\n",
       " ('USC00519281', '2017-04-13', '69'),\n",
       " ('USC00519281', '2017-04-14', '74'),\n",
       " ('USC00519281', '2017-04-15', '78'),\n",
       " ('USC00519281', '2017-04-16', '71'),\n",
       " ('USC00519281', '2017-04-17', '67'),\n",
       " ('USC00519281', '2017-04-18', '68'),\n",
       " ('USC00519281', '2017-04-19', '67'),\n",
       " ('USC00519281', '2017-04-20', '76'),\n",
       " ('USC00519281', '2017-04-21', '69'),\n",
       " ('USC00519281', '2017-04-22', '72'),\n",
       " ('USC00519281', '2017-04-23', '76'),\n",
       " ('USC00519281', '2017-04-24', '68'),\n",
       " ('USC00519281', '2017-04-25', '72'),\n",
       " ('USC00519281', '2017-04-26', '74'),\n",
       " ('USC00519281', '2017-04-27', '70'),\n",
       " ('USC00519281', '2017-04-28', '67'),\n",
       " ('USC00519281', '2017-04-29', '72'),\n",
       " ('USC00519281', '2017-04-30', '60'),\n",
       " ('USC00519281', '2017-05-01', '65'),\n",
       " ('USC00519281', '2017-05-02', '75'),\n",
       " ('USC00519281', '2017-05-03', '70'),\n",
       " ('USC00519281', '2017-05-04', '75'),\n",
       " ('USC00519281', '2017-05-05', '70'),\n",
       " ('USC00519281', '2017-05-06', '79'),\n",
       " ('USC00519281', '2017-05-07', '75'),\n",
       " ('USC00519281', '2017-05-08', '70'),\n",
       " ('USC00519281', '2017-05-09', '67'),\n",
       " ('USC00519281', '2017-05-10', '74'),\n",
       " ('USC00519281', '2017-05-11', '70'),\n",
       " ('USC00519281', '2017-05-12', '75'),\n",
       " ('USC00519281', '2017-05-13', '76'),\n",
       " ('USC00519281', '2017-05-14', '77'),\n",
       " ('USC00519281', '2017-05-15', '74'),\n",
       " ('USC00519281', '2017-05-16', '74'),\n",
       " ('USC00519281', '2017-05-17', '74'),\n",
       " ('USC00519281', '2017-05-18', '69'),\n",
       " ('USC00519281', '2017-05-19', '68'),\n",
       " ('USC00519281', '2017-05-20', '76'),\n",
       " ('USC00519281', '2017-05-21', '74'),\n",
       " ('USC00519281', '2017-05-22', '71'),\n",
       " ('USC00519281', '2017-05-23', '71'),\n",
       " ('USC00519281', '2017-05-24', '74'),\n",
       " ('USC00519281', '2017-05-25', '74'),\n",
       " ('USC00519281', '2017-05-26', '74'),\n",
       " ('USC00519281', '2017-05-27', '74'),\n",
       " ('USC00519281', '2017-05-28', '80'),\n",
       " ('USC00519281', '2017-05-29', '74'),\n",
       " ('USC00519281', '2017-05-30', '72'),\n",
       " ('USC00519281', '2017-05-31', '75'),\n",
       " ('USC00519281', '2017-06-01', '80'),\n",
       " ('USC00519281', '2017-06-02', '76'),\n",
       " ('USC00519281', '2017-06-03', '76'),\n",
       " ('USC00519281', '2017-06-04', '77'),\n",
       " ('USC00519281', '2017-06-05', '75'),\n",
       " ('USC00519281', '2017-06-06', '75'),\n",
       " ('USC00519281', '2017-06-07', '75'),\n",
       " ('USC00519281', '2017-06-08', '75'),\n",
       " ('USC00519281', '2017-06-09', '72'),\n",
       " ('USC00519281', '2017-06-10', '74'),\n",
       " ('USC00519281', '2017-06-11', '74'),\n",
       " ('USC00519281', '2017-06-12', '74'),\n",
       " ('USC00519281', '2017-06-13', '76'),\n",
       " ('USC00519281', '2017-06-14', '74'),\n",
       " ('USC00519281', '2017-06-15', '75'),\n",
       " ('USC00519281', '2017-06-16', '73'),\n",
       " ('USC00519281', '2017-06-17', '79'),\n",
       " ('USC00519281', '2017-06-18', '75'),\n",
       " ('USC00519281', '2017-06-19', '72'),\n",
       " ('USC00519281', '2017-06-20', '72'),\n",
       " ('USC00519281', '2017-06-21', '74'),\n",
       " ('USC00519281', '2017-06-22', '72'),\n",
       " ('USC00519281', '2017-06-23', '72'),\n",
       " ('USC00519281', '2017-06-24', '77'),\n",
       " ('USC00519281', '2017-06-25', '71'),\n",
       " ('USC00519281', '2017-06-26', '73'),\n",
       " ('USC00519281', '2017-06-27', '76'),\n",
       " ('USC00519281', '2017-06-28', '77'),\n",
       " ('USC00519281', '2017-06-29', '76'),\n",
       " ('USC00519281', '2017-06-30', '76'),\n",
       " ('USC00519281', '2017-07-01', '79'),\n",
       " ('USC00519281', '2017-07-02', '81'),\n",
       " ('USC00519281', '2017-07-03', '76'),\n",
       " ('USC00519281', '2017-07-04', '78'),\n",
       " ('USC00519281', '2017-07-05', '77'),\n",
       " ('USC00519281', '2017-07-06', '74'),\n",
       " ('USC00519281', '2017-07-07', '75'),\n",
       " ('USC00519281', '2017-07-08', '78'),\n",
       " ('USC00519281', '2017-07-09', '78'),\n",
       " ('USC00519281', '2017-07-10', '69'),\n",
       " ('USC00519281', '2017-07-11', '72'),\n",
       " ('USC00519281', '2017-07-12', '74'),\n",
       " ('USC00519281', '2017-07-13', '74'),\n",
       " ('USC00519281', '2017-07-14', '76'),\n",
       " ('USC00519281', '2017-07-15', '80'),\n",
       " ('USC00519281', '2017-07-16', '80'),\n",
       " ('USC00519281', '2017-07-17', '76'),\n",
       " ('USC00519281', '2017-07-18', '76'),\n",
       " ('USC00519281', '2017-07-19', '76'),\n",
       " ('USC00519281', '2017-07-20', '77'),\n",
       " ('USC00519281', '2017-07-21', '77'),\n",
       " ('USC00519281', '2017-07-22', '77'),\n",
       " ('USC00519281', '2017-07-23', '82'),\n",
       " ('USC00519281', '2017-07-24', '75'),\n",
       " ('USC00519281', '2017-07-25', '77'),\n",
       " ('USC00519281', '2017-07-26', '75'),\n",
       " ('USC00519281', '2017-07-27', '76'),\n",
       " ('USC00519281', '2017-07-28', '81'),\n",
       " ('USC00519281', '2017-07-29', '82'),\n",
       " ('USC00519281', '2017-07-30', '81'),\n",
       " ('USC00519281', '2017-07-31', '76'),\n",
       " ('USC00519281', '2017-08-04', '77'),\n",
       " ('USC00519281', '2017-08-05', '82'),\n",
       " ('USC00519281', '2017-08-06', '83'),\n",
       " ('USC00519281', '2017-08-13', '77'),\n",
       " ('USC00519281', '2017-08-14', '77'),\n",
       " ('USC00519281', '2017-08-15', '77'),\n",
       " ('USC00519281', '2017-08-16', '76'),\n",
       " ('USC00519281', '2017-08-17', '76'),\n",
       " ('USC00519281', '2017-08-18', '79')]"
      ]
     },
     "execution_count": 33,
     "metadata": {},
     "output_type": "execute_result"
    }
   ],
   "source": [
    "results_high_tobs_year = session.query(Measurement.station, Measurement.date, Measurement.tobs).\\\n",
    "    filter(Measurement.station == 'USC00519281', Measurement.date >= '2017-04-01', Measurement.date <= '2018-04-20').all()\n",
    "results_high_tobs_year"
   ]
  },
  {
   "cell_type": "code",
   "execution_count": 34,
   "metadata": {
    "collapsed": true
   },
   "outputs": [],
   "source": [
    "result_tobs = [int(result[2]) for result in results_high_tobs_year]"
   ]
  },
  {
   "cell_type": "code",
   "execution_count": 38,
   "metadata": {},
   "outputs": [
    {
     "data": {
      "image/png": "[encoded data removed]",
      "text/plain": [
       "<matplotlib.figure.Figure at 0x10e3e8550>"
      ]
     },
     "metadata": {},
     "output_type": "display_data"
    }
   ],
   "source": [
    "plt.hist(result_tobs, bins=12)\n",
    "plt.title(\"Station-USC00519281-tobs Frequency 2017-2018\")\n",
    "plt.legend(\"tobs\")\n",
    "plt.grid()\n",
    "plt.show()"
   ]
  },
  {
   "cell_type": "code",
   "execution_count": 92,
   "metadata": {},
   "outputs": [],
   "source": [
    "start = \"2017-04-01\"\n",
    "end = \"2018-04-20\"\n",
    "\n",
    "temp = session.query(func.avg(Measurement.tobs),func.min(Measurement.tobs),func.max(Measurement.tobs)).\\\n",
    "    filter(Measurement.date>=start).\\\n",
    "    filter(Measurement.date<=end).all()\n",
    "temp_df = pd.DataFrame(temp, columns=[\"avg\",\"min\",\"max\"])\n",
    "temp_df\n",
    "description = temp_df.astype(float)"
   ]
  },
  {
   "cell_type": "code",
   "execution_count": 94,
   "metadata": {},
   "outputs": [
    {
     "data": {
      "image/png": "[encoded data removed]",
      "text/plain": [
       "<matplotlib.figure.Figure at 0x10e124128>"
      ]
     },
     "metadata": {},
     "output_type": "display_data"
    }
   ],
   "source": [
    "yerr=description[\"max\"]-description[\"min\"]\n",
    "temp_chart = description[\"avg\"].plot.bar(yerr=yerr, title =\"Temperatures in Hawaii\", figsize=(5, 7), fontsize=12, color='lightblue', legend=True, grid=True)\n",
    "temp_chart.set_xlabel(\"Temprature Avg\", fontsize=12)\n",
    "temp_chart.set_ylabel(\"Temperatures in Farenheit\", fontsize=12)\n",
    "plt.show()\n",
    "# plt.bar(left=1,height = temp_df[\"avg\"],yerr=yerr)"
   ]
  }
 ],
 "metadata": {
  "kernelspec": {
   "display_name": "Python 3",
   "language": "python",
   "name": "python3"
  },
  "language_info": {
   "codemirror_mode": {
    "name": "ipython",
    "version": 3
   },
   "file_extension": ".py",
   "mimetype": "text/x-python",
   "name": "python",
   "nbconvert_exporter": "python",
   "pygments_lexer": "ipython3",
   "version": "3.6.3"
  }
 },
 "nbformat": 4,
 "nbformat_minor": 2
}
